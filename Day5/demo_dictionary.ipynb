{
 "cells": [
  {
   "cell_type": "code",
   "execution_count": null,
   "metadata": {},
   "outputs": [],
   "source": [
    "words = {'hello': 'xin chào', 'goodbye': 'tạm biệt', 'thank you': 'cảm ơn', \n",
    "         'you are welcome': 'không có gì'}\n",
    "print(words['hello'])\n",
    "w = input('Enter english word:')\n",
    "if w in words:\n",
    "    print(words[w])  # access value by key\n",
    "else:\n",
    "    print(f'{w} is not in dictionary')"
   ]
  },
  {
   "cell_type": "code",
   "execution_count": null,
   "metadata": {},
   "outputs": [],
   "source": [
    "words = {} # empty dictionary\n",
    "words['hello'] = 'xin chào'     # add new key-value pair\n",
    "words['goodbye'] = 'tạm biệt'   # add new key-value pair\n",
    "print(words)\n",
    "words[0] = 'khong'\n",
    "print(words[0])\n",
    "print(words)"
   ]
  },
  {
   "cell_type": "code",
   "execution_count": null,
   "metadata": {},
   "outputs": [],
   "source": [
    "d = {0: ('a', 'b'), 1: ('c', 'd')}\n",
    "print(d[0], d[1])"
   ]
  },
  {
   "cell_type": "code",
   "execution_count": null,
   "metadata": {},
   "outputs": [],
   "source": [
    "e = {('a', 'b'): 0, ('c', 'd'): 1}\n",
    "print(e[('a', 'b')])"
   ]
  },
  {
   "cell_type": "code",
   "execution_count": 15,
   "metadata": {},
   "outputs": [],
   "source": [
    "rooms = {'Emma': 200, 'John': 302, 'Peter': 410, 'Mike': 101}"
   ]
  },
  {
   "cell_type": "code",
   "execution_count": 17,
   "metadata": {},
   "outputs": [
    {
     "name": "stdout",
     "output_type": "stream",
     "text": [
      "Peter is already checked in\n"
     ]
    }
   ],
   "source": [
    "# New guest check-in\n",
    "name = input('Enter guest name:')\n",
    "if name in rooms:\n",
    "    print(f'{name} is already checked in')\n",
    "else:\n",
    "    room = int(input('Enter room number:'))\n",
    "    rooms[name] = room # add (name, room) pair to rooms\n",
    "    print(f'{name} is checked in room {room}')"
   ]
  },
  {
   "cell_type": "code",
   "execution_count": 19,
   "metadata": {},
   "outputs": [
    {
     "name": "stdout",
     "output_type": "stream",
     "text": [
      "Anna is not checked in\n"
     ]
    }
   ],
   "source": [
    "# Change room\n",
    "name = input('Enter guest name:')\n",
    "if name not in rooms:\n",
    "    print(f'{name} is not checked in')\n",
    "else:\n",
    "    room = int(input('Enter room number:'))\n",
    "    rooms[name] = room\n",
    "    print(f'{name} is now changed to room {room}')"
   ]
  },
  {
   "cell_type": "code",
   "execution_count": 21,
   "metadata": {},
   "outputs": [
    {
     "name": "stdout",
     "output_type": "stream",
     "text": [
      "Anna is not checked in\n"
     ]
    }
   ],
   "source": [
    "# Guest check-out\n",
    "name = input('Enter guest name:')\n",
    "if name not in rooms:\n",
    "    print(f'{name} is not checked in')\n",
    "else:\n",
    "    del rooms[name]\n",
    "    print(f'{name} is checked out')"
   ]
  },
  {
   "cell_type": "code",
   "execution_count": 22,
   "metadata": {},
   "outputs": [
    {
     "name": "stdout",
     "output_type": "stream",
     "text": [
      "['Emma', 'John', 'Peter', 'Mike']\n",
      "[200, 302, 410, 101]\n",
      "[('Emma', 200), ('John', 302), ('Peter', 410), ('Mike', 101)]\n"
     ]
    }
   ],
   "source": [
    "# Useful methods: keys(), values(), items()\n",
    "guest_names = list(rooms.keys())\n",
    "print(guest_names)\n",
    "room_numbers = list(rooms.values())\n",
    "print(room_numbers)\n",
    "name_room_pairs = list(rooms.items())\n",
    "print(name_room_pairs)"
   ]
  },
  {
   "cell_type": "code",
   "execution_count": 23,
   "metadata": {},
   "outputs": [
    {
     "name": "stdout",
     "output_type": "stream",
     "text": [
      "Emma stayed in room 200\n",
      "John stayed in room 302\n",
      "Peter stayed in room 410\n",
      "Mike stayed in room 101\n"
     ]
    }
   ],
   "source": [
    "for name in rooms:\n",
    "    print(f'{name} stayed in room {rooms[name]}')"
   ]
  },
  {
   "cell_type": "code",
   "execution_count": 24,
   "metadata": {},
   "outputs": [
    {
     "name": "stdout",
     "output_type": "stream",
     "text": [
      "Emma stayed in room 200\n",
      "John stayed in room 302\n",
      "Peter stayed in room 410\n",
      "Mike stayed in room 101\n"
     ]
    }
   ],
   "source": [
    "for name, room_no in rooms.items():\n",
    "    print(f'{name} stayed in room {room_no}')"
   ]
  },
  {
   "cell_type": "code",
   "execution_count": 25,
   "metadata": {},
   "outputs": [
    {
     "name": "stdout",
     "output_type": "stream",
     "text": [
      "Saturday\n"
     ]
    }
   ],
   "source": [
    "week_days = {1: 'Sunday', 2: 'Monday', 3: 'Tuesday', 4: 'Wednesday',\n",
    "             5: 'Thursday', 6: 'Friday', 7: 'Saturday'}\n",
    "wd = int(input('Enter weekday number:'))\n",
    "if wd in week_days:\n",
    "    print(week_days[wd])\n",
    "else:\n",
    "    print('Invalid weekday number')"
   ]
  }
 ],
 "metadata": {
  "kernelspec": {
   "display_name": "Python 3",
   "language": "python",
   "name": "python3"
  },
  "language_info": {
   "codemirror_mode": {
    "name": "ipython",
    "version": 3
   },
   "file_extension": ".py",
   "mimetype": "text/x-python",
   "name": "python",
   "nbconvert_exporter": "python",
   "pygments_lexer": "ipython3",
   "version": "3.9.12"
  },
  "orig_nbformat": 4
 },
 "nbformat": 4,
 "nbformat_minor": 2
}
