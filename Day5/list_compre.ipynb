{
 "cells": [
  {
   "cell_type": "code",
   "execution_count": 2,
   "metadata": {},
   "outputs": [
    {
     "name": "stdout",
     "output_type": "stream",
     "text": [
      "1 John\n",
      "2 Paul\n",
      "3 George\n",
      "4 Ringo\n",
      "5 Pete\n"
     ]
    }
   ],
   "source": [
    "# For using index\n",
    "names = ['John', 'Paul', 'George', 'Ringo', 'Pete']\n",
    "for i in range(len(names)):\n",
    "    print(i+1, names[i])"
   ]
  },
  {
   "cell_type": "code",
   "execution_count": 3,
   "metadata": {},
   "outputs": [
    {
     "name": "stdout",
     "output_type": "stream",
     "text": [
      "John\n",
      "Paul\n",
      "George\n",
      "Ringo\n",
      "Pete\n"
     ]
    }
   ],
   "source": [
    "for name in names:\n",
    "    print(name)"
   ]
  },
  {
   "cell_type": "code",
   "execution_count": null,
   "metadata": {},
   "outputs": [],
   "source": [
    "for i, name in enumerate(names):\n",
    "    print(i+1, name)"
   ]
  },
  {
   "cell_type": "code",
   "execution_count": 5,
   "metadata": {},
   "outputs": [
    {
     "name": "stdout",
     "output_type": "stream",
     "text": [
      "h+e+l+l+o+ +w+o+r+l+d+"
     ]
    }
   ],
   "source": [
    "for c in 'hello world':\n",
    "    print(c, end='+')"
   ]
  },
  {
   "cell_type": "code",
   "execution_count": 6,
   "metadata": {},
   "outputs": [
    {
     "name": "stdout",
     "output_type": "stream",
     "text": [
      "[2, 2, 2, 2, 2]\n"
     ]
    }
   ],
   "source": [
    "ones = [1, 1, 1, 1, 1]\n",
    "twos = [i + 1 for i in ones]\n",
    "print(twos)"
   ]
  },
  {
   "cell_type": "code",
   "execution_count": 7,
   "metadata": {},
   "outputs": [
    {
     "name": "stdout",
     "output_type": "stream",
     "text": [
      "[11, 10, 12, 12]\n"
     ]
    }
   ],
   "source": [
    "names = ['John Murray', 'Mike Tyson', 'Barack Obama', 'Donald Trump']\n",
    "lens = [len(n) for n in names]\n",
    "print(lens)"
   ]
  },
  {
   "cell_type": "code",
   "execution_count": 10,
   "metadata": {},
   "outputs": [
    {
     "name": "stdout",
     "output_type": "stream",
     "text": [
      "[43, 80, 7, 54, 84, 73, 100, 37, 78, 69]\n"
     ]
    }
   ],
   "source": [
    "import random as rd\n",
    "numbers = [rd.randint(1, 100) for _ in range(10)]\n",
    "print(numbers)"
   ]
  },
  {
   "cell_type": "code",
   "execution_count": 11,
   "metadata": {},
   "outputs": [
    {
     "name": "stdout",
     "output_type": "stream",
     "text": [
      "[80, 54, 84, 100, 78]\n",
      "[43, 7, 73, 37, 69]\n"
     ]
    }
   ],
   "source": [
    "# Find even numbers\n",
    "evens = [n for n in numbers if n % 2 == 0]\n",
    "odds = [n for n in numbers if n % 2 == 1]\n",
    "print(evens)\n",
    "print(odds)"
   ]
  },
  {
   "cell_type": "code",
   "execution_count": 13,
   "metadata": {},
   "outputs": [
    {
     "name": "stdout",
     "output_type": "stream",
     "text": [
      "[0.72, 0.11, 0.43, 0.64, -0.42, 0.95, -0.18, 0.66, -0.18, -0.18]\n",
      "[0.72, 0.11, 0.43, 0.64, 0.95, 0.66]\n",
      "[-0.42, -0.18, -0.18, -0.18]\n"
     ]
    }
   ],
   "source": [
    "# Generate a list of random floating numbers between -1 and 1\n",
    "numbers = [rd.randint(-100, 100) / 100 for _ in range(10)]\n",
    "print(numbers)\n",
    "# Filter positive numbers\n",
    "positives = [n for n in numbers if n > 0]\n",
    "# Filter negative numbers\n",
    "negatives = [n for n in numbers if n < 0]\n",
    "print(positives, negatives, sep='\\n')"
   ]
  },
  {
   "cell_type": "code",
   "execution_count": 18,
   "metadata": {},
   "outputs": [
    {
     "name": "stdout",
     "output_type": "stream",
     "text": [
      "['eraser', 'ruler', 'notebook']\n"
     ]
    }
   ],
   "source": [
    "product_sold = [['pen', 10.0, 50],\n",
    "                ['pencil', 20.5, 40],\n",
    "                ['eraser', 30.0, 25],\n",
    "                ['ruler', 40.5, 20],\n",
    "                ['notebook', 50.5, 15]]\n",
    "# Find products that has price >= 30.0\n",
    "products_over30 = [row[0] for row in product_sold if row[1] >= 30.0]\n",
    "print(products_over30)"
   ]
  },
  {
   "cell_type": "code",
   "execution_count": null,
   "metadata": {},
   "outputs": [],
   "source": [
    "# Find products that has income >= 600.0\n",
    "products_large_income = [row[0] for row in product_sold if row[1] * row[2] >= 600.0]\n",
    "print(products_large_income)"
   ]
  },
  {
   "cell_type": "code",
   "execution_count": 15,
   "metadata": {},
   "outputs": [
    {
     "name": "stdout",
     "output_type": "stream",
     "text": [
      "[0.21, -0.21, 0.65, 0.1, -0.21, 0.59, 0.12, -0.06, -0.26, -0.84]\n",
      "[0.21, 0.21, 0.65, 0.1, 0.21, 0.59, 0.12, 0.06, 0.26, 0.84]\n"
     ]
    }
   ],
   "source": [
    "numbers = [rd.randint(-100, 100) / 100 for _ in range(10)]\n",
    "print(numbers)\n",
    "numbers = [n if n > 0 else -n for n in numbers]\n",
    "print(numbers)"
   ]
  },
  {
   "cell_type": "code",
   "execution_count": 16,
   "metadata": {},
   "outputs": [
    {
     "name": "stdout",
     "output_type": "stream",
     "text": [
      "['Harry McGuire', 'John Doe', 'Marcus Rashford', 'John Doe', 'Paul Pogba', 'David De Gea']\n"
     ]
    }
   ],
   "source": [
    "names = ['Harry McGuire', '', 'Marcus Rashford', '', 'Paul Pogba', 'David De Gea']\n",
    "# change empty names to default name (e.g. 'John Doe')\n",
    "names = [n if n != '' else 'John Doe' for n in names]\n",
    "print(names)"
   ]
  },
  {
   "cell_type": "code",
   "execution_count": 19,
   "metadata": {},
   "outputs": [
    {
     "name": "stdout",
     "output_type": "stream",
     "text": [
      "['notebook']\n"
     ]
    }
   ],
   "source": [
    "max_price = max([row[1] for row in product_sold])\n",
    "most_expensive = [row[0] for row in product_sold if row[1] == max_price]\n",
    "print(most_expensive)"
   ]
  }
 ],
 "metadata": {
  "kernelspec": {
   "display_name": "Python 3",
   "language": "python",
   "name": "python3"
  },
  "language_info": {
   "codemirror_mode": {
    "name": "ipython",
    "version": 3
   },
   "file_extension": ".py",
   "mimetype": "text/x-python",
   "name": "python",
   "nbconvert_exporter": "python",
   "pygments_lexer": "ipython3",
   "version": "3.9.12"
  },
  "orig_nbformat": 4
 },
 "nbformat": 4,
 "nbformat_minor": 2
}
