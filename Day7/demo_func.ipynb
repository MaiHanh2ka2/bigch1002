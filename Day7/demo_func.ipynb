{
 "cells": [
  {
   "cell_type": "code",
   "execution_count": null,
   "metadata": {},
   "outputs": [],
   "source": [
    "# Call print for any number of arguments\n",
    "print()\n",
    "print(1)\n",
    "print(2, 3)\n",
    "print('Hello', 1, [1, 2])"
   ]
  },
  {
   "cell_type": "code",
   "execution_count": 10,
   "metadata": {},
   "outputs": [],
   "source": [
    "def my_sum_01(*items):\n",
    "    print(type(items))\n",
    "    s = 0\n",
    "    for i in items:\n",
    "        s += i\n",
    "    return s\n",
    "\n",
    "def my_sum_02(items):\n",
    "    print(type(items))\n",
    "    s = 0\n",
    "    for i in items:\n",
    "        s += i\n",
    "    return s"
   ]
  },
  {
   "cell_type": "code",
   "execution_count": null,
   "metadata": {},
   "outputs": [],
   "source": [
    "numbers = [1, 2, 3]\n",
    "print(my_sum_02(numbers))\n",
    "print(my_sum_02([3, 4, 5]))\n",
    "# print(my_sum_02(3, 4, 5)) # Error: number of arguments does not match\n",
    "print(my_sum_02((3, 4, 5)))"
   ]
  },
  {
   "cell_type": "code",
   "execution_count": null,
   "metadata": {},
   "outputs": [],
   "source": [
    "print(my_sum_01())\n",
    "print(my_sum_01(1))\n",
    "print(my_sum_01(1, 2))\n",
    "print(my_sum_01(1, 2, 3))\n",
    "# print(my_sum_01([1, 2, 3, 4])) # Error: type doesnt match\n",
    "print(my_sum_01((1, 2, 3, 4)))   # Error: type doesnt match"
   ]
  },
  {
   "cell_type": "code",
   "execution_count": 15,
   "metadata": {},
   "outputs": [],
   "source": [
    "def max_min(a, b):\n",
    "    if a > b:\n",
    "        return a, b\n",
    "    else:\n",
    "        return b, a"
   ]
  },
  {
   "cell_type": "code",
   "execution_count": null,
   "metadata": {},
   "outputs": [],
   "source": [
    "ma, mi = max_min(1, 2)\n",
    "print(f'Max = {ma}, min = {mi}')\n",
    "\n",
    "ma = max_min(5, 8)\n",
    "print(f'Max = {ma}')\n",
    "\n",
    "_, mi = max_min(100, 200)\n",
    "print(f'Min = {mi}')"
   ]
  },
  {
   "cell_type": "code",
   "execution_count": 26,
   "metadata": {},
   "outputs": [
    {
     "name": "stdout",
     "output_type": "stream",
     "text": [
      "(2, 3, 4)\n"
     ]
    }
   ],
   "source": [
    "def my_func(a, b, c):\n",
    "    return a+1, b+1, c+1\n",
    "\n",
    "a = my_func(1, 2, 3)\n",
    "print(a)"
   ]
  },
  {
   "cell_type": "code",
   "execution_count": 29,
   "metadata": {},
   "outputs": [
    {
     "name": "stdout",
     "output_type": "stream",
     "text": [
      "Anna de Leon\n"
     ]
    }
   ],
   "source": [
    "names = ['John Lennon', 'Paul', 'Anna de Leon', 'Ringo']\n",
    "longest_name = max(names, key=len)\n",
    "print(longest_name)"
   ]
  },
  {
   "cell_type": "code",
   "execution_count": 30,
   "metadata": {},
   "outputs": [
    {
     "name": "stdout",
     "output_type": "stream",
     "text": [
      "Anna de Leon\n",
      "Ringo\n"
     ]
    }
   ],
   "source": [
    "def same(x):\n",
    "    return x\n",
    "def my_max(items, key=same):\n",
    "    max_item = items[0]\n",
    "    for i in items:\n",
    "        if key(i) > key(max_item):\n",
    "            max_item = i\n",
    "    return max_item\n",
    "longest_name = my_max(names, key=len)\n",
    "print(longest_name)\n",
    "alpha_name = my_max(names)\n",
    "print(alpha_name)"
   ]
  },
  {
   "cell_type": "code",
   "execution_count": 31,
   "metadata": {},
   "outputs": [
    {
     "name": "stdout",
     "output_type": "stream",
     "text": [
      "Leonardo Da Vinci\n"
     ]
    }
   ],
   "source": [
    "names = ['John Lennon', 'Paul McCartney', 'Anna de Leon', 'Ringo Star', 'George Harrison', 'Mick Jagger', 'Leonardo Da Vinci']\n",
    "# Find the max name by last name\n",
    "def get_last_name(name):\n",
    "    return name.split()[-1]\n",
    "print(my_max(names, key=get_last_name))"
   ]
  },
  {
   "cell_type": "code",
   "execution_count": 41,
   "metadata": {},
   "outputs": [
    {
     "name": "stdout",
     "output_type": "stream",
     "text": [
      "[-11, 33, -51, 64, 29, 41, -74, -63, 38, 78, 17, -85, -35, 57, 34, 5, 50, -31, 76, -94]\n"
     ]
    }
   ],
   "source": [
    "import random as rd\n",
    "numbers = rd.sample(range(-100, 100), 20)\n",
    "print(numbers)"
   ]
  },
  {
   "cell_type": "code",
   "execution_count": 42,
   "metadata": {},
   "outputs": [
    {
     "name": "stdout",
     "output_type": "stream",
     "text": [
      "-94\n",
      "29\n",
      "-94\n"
     ]
    }
   ],
   "source": [
    "# Find max by absolute value\n",
    "print(my_max(numbers, key=abs))\n",
    "# Find the number that has the largest last digit\n",
    "def get_last_digit(n):\n",
    "    return abs(n) % 10\n",
    "print(my_max(numbers, key=get_last_digit))\n",
    "# Find the number that is farthest from 10\n",
    "def distance_10(n):\n",
    "    return abs(n - 10)\n",
    "print(my_max(numbers, key=distance_10))"
   ]
  },
  {
   "cell_type": "code",
   "execution_count": 44,
   "metadata": {},
   "outputs": [
    {
     "name": "stdout",
     "output_type": "stream",
     "text": [
      "[73, 76, 44, 85, 87, 68, 61, 51, 82, 98]\n",
      "Min = 44\n"
     ]
    }
   ],
   "source": [
    "def neg(x):\n",
    "    return -x\n",
    "numbers = rd.sample(range(100), 10)\n",
    "print(numbers)\n",
    "print(f'Min = {my_max(numbers, key=neg)}')"
   ]
  },
  {
   "cell_type": "code",
   "execution_count": 45,
   "metadata": {},
   "outputs": [],
   "source": [
    "def greater(a, b):\n",
    "    return a > b\n",
    "def my_sort(items, compare=greater):\n",
    "    for i in range(len(items)):\n",
    "        for j in range(i+1, len(items)):\n",
    "            if compare(items[i], items[j]):\n",
    "                items[i], items[j] = items[j], items[i]\n",
    "    return items"
   ]
  },
  {
   "cell_type": "code",
   "execution_count": null,
   "metadata": {},
   "outputs": [],
   "source": [
    "my_sort(names)\n",
    "for n in names:\n",
    "    print(n)"
   ]
  },
  {
   "cell_type": "code",
   "execution_count": null,
   "metadata": {},
   "outputs": [],
   "source": [
    "def less(a, b):\n",
    "    return a < b\n",
    "my_sort(names, compare=less)\n",
    "for n in names:\n",
    "    print(n)"
   ]
  },
  {
   "cell_type": "code",
   "execution_count": 56,
   "metadata": {},
   "outputs": [
    {
     "name": "stdout",
     "output_type": "stream",
     "text": [
      "Leonardo Da Vinci\n",
      "George Harrison\n",
      "Paul McCartney\n",
      "Anna de Leon\n",
      "Mick Jagger\n",
      "John Lennon\n",
      "Ringo Star\n"
     ]
    }
   ],
   "source": [
    "# Sort asc by length:\n",
    "def greater_len(a, b):\n",
    "    return len(a) > len(b)\n",
    "def less_len(a, b):\n",
    "    return len(a) < len(b)\n",
    "def greater_last(a, b):\n",
    "    return a.split()[-1] > b.split()[-1]\n",
    "def less_last(a, b):\n",
    "    return a.split()[-1] < b.split()[-1]\n",
    "def greater_vowels(a, b):\n",
    "    vowels = 'aeiou'\n",
    "    return len([c for c in a.lower() if c in vowels]) > \\\n",
    "            len([c for c in b.lower() if c in vowels])\n",
    "def less_vowels(a, b):\n",
    "    vowels = 'aeiou'\n",
    "    return len([c for c in a.lower() if c in vowels]) < \\\n",
    "            len([c for c in b.lower() if c in vowels])\n",
    "my_sort(names, compare=less_len)\n",
    "for n in names:\n",
    "    print(n)"
   ]
  }
 ],
 "metadata": {
  "kernelspec": {
   "display_name": "Python 3",
   "language": "python",
   "name": "python3"
  },
  "language_info": {
   "codemirror_mode": {
    "name": "ipython",
    "version": 3
   },
   "file_extension": ".py",
   "mimetype": "text/x-python",
   "name": "python",
   "nbconvert_exporter": "python",
   "pygments_lexer": "ipython3",
   "version": "3.9.12"
  },
  "orig_nbformat": 4
 },
 "nbformat": 4,
 "nbformat_minor": 2
}
