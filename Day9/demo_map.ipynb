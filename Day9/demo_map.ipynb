{
 "cells": [
  {
   "cell_type": "code",
   "execution_count": 5,
   "metadata": {},
   "outputs": [
    {
     "name": "stdout",
     "output_type": "stream",
     "text": [
      "[98, 66, 8, 5, 17, 96, 85, -22, -29, -79, 95, -2, 46, -73, -61]\n"
     ]
    }
   ],
   "source": [
    "# Function map: map(f, iterable)\n",
    "import random as rd\n",
    "numbers = [rd.randint(-100, 100) for i in range(15)]\n",
    "print(numbers)"
   ]
  },
  {
   "cell_type": "code",
   "execution_count": 6,
   "metadata": {},
   "outputs": [
    {
     "name": "stdout",
     "output_type": "stream",
     "text": [
      "[-98, -66, -8, -5, -17, -96, -85, 22, 29, 79, -95, 2, -46, 73, 61]\n"
     ]
    }
   ],
   "source": [
    "numbers = [-n for n in numbers]\n",
    "print(numbers)"
   ]
  },
  {
   "cell_type": "code",
   "execution_count": 7,
   "metadata": {},
   "outputs": [
    {
     "name": "stdout",
     "output_type": "stream",
     "text": [
      "[98, 66, 8, 5, 17, 96, 85, -22, -29, -79, 95, -2, 46, -73, -61]\n"
     ]
    }
   ],
   "source": [
    "numbers = map(lambda n: -n, numbers)\n",
    "print(list(numbers))"
   ]
  },
  {
   "cell_type": "code",
   "execution_count": 8,
   "metadata": {},
   "outputs": [
    {
     "name": "stdout",
     "output_type": "stream",
     "text": [
      "51\n"
     ]
    }
   ],
   "source": [
    "names = ['John Lennon', 'Micheal Jackson', 'Paul McCartney', 'Ringo Starr']\n",
    "sum_lengths = sum(map(lambda n: len(n), names))\n",
    "print(sum_lengths)"
   ]
  },
  {
   "cell_type": "code",
   "execution_count": 11,
   "metadata": {},
   "outputs": [
    {
     "name": "stdout",
     "output_type": "stream",
     "text": [
      "[-0.07800089973374336, 0.6986544036580977, -0.4456491725635696, -0.7360020642747078, 0.25427101559712084, -0.8465854182870547, -0.25067255629901175, 0.585099083690197, 0.3932686068908553, -0.1022232318334686, -0.2235413220613114, 0.006500928245468662, -0.6183821103972325, 0.2531556779347055, -0.5852733153902965]\n",
      "[-1, 1, -1, -1, 1, -1, -1, 1, 1, -1, -1, 1, -1, 1, -1]\n"
     ]
    }
   ],
   "source": [
    "# Generate 15 floats in [-1, 1]\n",
    "numbers = [rd.random() * 2 - 1 for i in range(15)]\n",
    "print(numbers)\n",
    "\n",
    "# use map to convert negative numbers to -1, positive numbers to 1, zero to zero\n",
    "standardized = list(map(lambda n: -1 if n < 0 else 1 if n > 0 else 0, numbers))\n",
    "print(standardized)"
   ]
  },
  {
   "cell_type": "code",
   "execution_count": 12,
   "metadata": {},
   "outputs": [],
   "source": [
    "product_list = [['computer', 2000, 130],\n",
    "                ['monitor', 1590, 210],\n",
    "                ['laptop', 3000, 120],\n",
    "                ['mouse', 100, 380],\n",
    "                ['keyboard', 200, 220],\n",
    "                ['printer', 500, 150]]"
   ]
  },
  {
   "cell_type": "code",
   "execution_count": 17,
   "metadata": {},
   "outputs": [
    {
     "name": "stdout",
     "output_type": "stream",
     "text": [
      "333900\n",
      "printer\n",
      "953900\n"
     ]
    }
   ],
   "source": [
    "# use filter & map do the following:\n",
    "# 1. Find max revenue of products that has sold > 200\n",
    "max_revenue_product = max(filter(lambda p: p[2] > 200, product_list), key=lambda p: p[1] * p[2])\n",
    "print(max_revenue_product[1] * max_revenue_product[2])\n",
    "# 2. Find the product that has the lowest sold among products that has price < 1000\n",
    "lowest_sold_product = min(filter(lambda p: p[1] < 1000, product_list), key=lambda p: p[2])\n",
    "print(lowest_sold_product[0])\n",
    "# 3. Calculate sum of revenues of products that has price > 1000\n",
    "print(sum(map(lambda p: p[1] * p[2], filter(lambda p: p[1] > 1000, product_list))))"
   ]
  },
  {
   "cell_type": "code",
   "execution_count": 23,
   "metadata": {},
   "outputs": [
    {
     "name": "stdout",
     "output_type": "stream",
     "text": [
      "[29, 42, 37, 70, 75, 5, 55, 44, 71, 32, 22, 14, 80, 96, 80]\n",
      "42 70 44 32 22 14 80 96 80 \n",
      "480\n"
     ]
    }
   ],
   "source": [
    "def my_filter(f, iterable):\n",
    "    for item in iterable:\n",
    "        if f(item) == True:\n",
    "            yield item          # return item to outside but not stop the function\n",
    "numbers = [rd.randint(0, 100) for i in range(15)]\n",
    "print(numbers)\n",
    "for n in my_filter(lambda n : n % 2 == 0, numbers): # get yield value one at a time\n",
    "    print(n, end=' ')\n",
    "print()\n",
    "s = 0\n",
    "for n in my_filter(lambda n : n % 2 == 0, numbers):\n",
    "    s += n\n",
    "print(s)"
   ]
  },
  {
   "cell_type": "code",
   "execution_count": 28,
   "metadata": {},
   "outputs": [
    {
     "name": "stdout",
     "output_type": "stream",
     "text": [
      "42\n",
      "70\n",
      "[44, 32, 22, 14, 80, 96, 80]\n"
     ]
    }
   ],
   "source": [
    "iter = my_filter(lambda n : n % 2 == 0, numbers)\n",
    "print(next(iter))\n",
    "print(next(iter))\n",
    "print(list(iter))"
   ]
  },
  {
   "cell_type": "code",
   "execution_count": 30,
   "metadata": {},
   "outputs": [
    {
     "name": "stdout",
     "output_type": "stream",
     "text": [
      "[29, 42, 37, 70, 75, 5, 55, 44, 71, 32, 22, 14, 80, 96, 80]\n",
      "Sum of odd numbers: 272\n",
      "Max of odd numbers: 75\n"
     ]
    }
   ],
   "source": [
    "print(numbers)\n",
    "def odd_gen(numbers):\n",
    "    for n in numbers:\n",
    "        if n % 2 == 1:\n",
    "            yield n\n",
    "print('Sum of odd numbers:', sum(odd_gen(numbers)))\n",
    "print('Max of odd numbers:', max(odd_gen(numbers)))"
   ]
  },
  {
   "cell_type": "code",
   "execution_count": 34,
   "metadata": {},
   "outputs": [
    {
     "name": "stdout",
     "output_type": "stream",
     "text": [
      "3000\n",
      "7390\n"
     ]
    }
   ],
   "source": [
    "# Write a generator that yields prices of products\n",
    "def price_gen(products):\n",
    "    for p in products:\n",
    "        yield p[1]\n",
    "# Then find max price\n",
    "max_price = max(price_gen(product_list))\n",
    "print(max_price)\n",
    "print(sum(price_gen(product_list)))"
   ]
  },
  {
   "cell_type": "code",
   "execution_count": 33,
   "metadata": {},
   "outputs": [
    {
     "name": "stdout",
     "output_type": "stream",
     "text": [
      "Max of prices: 3000\n",
      "Sum of prices: 0\n"
     ]
    }
   ],
   "source": [
    "prices = (p[1] for p in product_list)  # similar to list comprehension\n",
    "print(f'Max of prices: {max(prices)}')\n",
    "print(f'Sum of prices: {sum(prices)}')"
   ]
  },
  {
   "cell_type": "code",
   "execution_count": 35,
   "metadata": {},
   "outputs": [],
   "source": [
    "def fib_rec(n):\n",
    "    if n == 0 or n == 1:\n",
    "        return n\n",
    "    return fib_rec(n - 1) + fib_rec(n - 2)"
   ]
  },
  {
   "cell_type": "code",
   "execution_count": 37,
   "metadata": {},
   "outputs": [
    {
     "name": "stdout",
     "output_type": "stream",
     "text": [
      "F0 = 0\n",
      "F1 = 1\n",
      "F2 = 1\n",
      "F3 = 2\n",
      "F4 = 3\n",
      "F5 = 5\n",
      "F6 = 8\n",
      "F7 = 13\n",
      "F8 = 21\n",
      "F9 = 34\n",
      "F40 = 102334155\n"
     ]
    }
   ],
   "source": [
    "for i in range(10):\n",
    "    print(f'F{i} = {fib_rec(i)}')\n",
    "\n",
    "n = 40\n",
    "print(f'F{n} = {fib_rec(n)}')"
   ]
  },
  {
   "cell_type": "code",
   "execution_count": 3,
   "metadata": {},
   "outputs": [
    {
     "name": "stdout",
     "output_type": "stream",
     "text": [
      "F400 = 176023680645013966468226945392411250770384383304492191886725992896575345044216019675\n"
     ]
    }
   ],
   "source": [
    "def fib_gen():\n",
    "    f0, f1 = 0, 1\n",
    "    while True:\n",
    "        yield f0\n",
    "        f0, f1 = f1, f0 + f1\n",
    "\n",
    "def fib(n):\n",
    "    i = 0\n",
    "    for f in fib_gen():\n",
    "        if i == n:\n",
    "            return f\n",
    "        i += 1\n",
    "n = 400\n",
    "print(f'F{n} = {fib(n)}')"
   ]
  }
 ],
 "metadata": {
  "kernelspec": {
   "display_name": "Python 3",
   "language": "python",
   "name": "python3"
  },
  "language_info": {
   "codemirror_mode": {
    "name": "ipython",
    "version": 3
   },
   "file_extension": ".py",
   "mimetype": "text/x-python",
   "name": "python",
   "nbconvert_exporter": "python",
   "pygments_lexer": "ipython3",
   "version": "3.9.12"
  },
  "orig_nbformat": 4
 },
 "nbformat": 4,
 "nbformat_minor": 2
}
