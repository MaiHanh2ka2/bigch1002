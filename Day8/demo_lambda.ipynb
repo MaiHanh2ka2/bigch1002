{
 "cells": [
  {
   "cell_type": "code",
   "execution_count": null,
   "metadata": {},
   "outputs": [],
   "source": [
    "# Lambda syntax: lambda input : output\n",
    "cube = lambda x: x**3\n",
    "print(cube(3))"
   ]
  },
  {
   "cell_type": "code",
   "execution_count": null,
   "metadata": {},
   "outputs": [],
   "source": [
    "# Similar to the lambda function above\n",
    "def cube(x):\n",
    "    return x**3"
   ]
  },
  {
   "cell_type": "code",
   "execution_count": null,
   "metadata": {},
   "outputs": [],
   "source": [
    "# call lambda directly\n",
    "print((lambda x: x**3)(3))"
   ]
  },
  {
   "cell_type": "code",
   "execution_count": 4,
   "metadata": {},
   "outputs": [],
   "source": [
    "def my_sort(items, compare=lambda a, b: a > b):\n",
    "    for i in range(len(items)):\n",
    "        for j in range(i+1, len(items)):\n",
    "            if compare(items[i], items[j]):\n",
    "                items[i], items[j] = items[j], items[i]\n",
    "    return items"
   ]
  },
  {
   "cell_type": "code",
   "execution_count": null,
   "metadata": {},
   "outputs": [],
   "source": [
    "import random as rd\n",
    "numbers = rd.sample(range(-100, 100), 10)\n",
    "print(numbers)\n",
    "my_sort(numbers)\n",
    "print(numbers)\n",
    "my_sort(numbers, lambda a, b: a < b)\n",
    "print(numbers)\n",
    "my_sort(numbers, lambda a, b: abs(a) < abs(b))\n",
    "print(numbers)"
   ]
  },
  {
   "cell_type": "code",
   "execution_count": null,
   "metadata": {},
   "outputs": [],
   "source": [
    "names = ['John Lennon', 'Paul McCartney', 'Anna de Leon', 'Ringo Star', 'George Harrison', 'Mick Jagger', 'Leonardo Da Vinci']\n",
    "\n",
    "# Sort asc / desc by length\n",
    "my_sort(names, lambda a, b: len(a) < len(b))\n",
    "for n in names: print(n)\n",
    "print('---------------------')\n",
    "# Sort asc / desc by last name\n",
    "my_sort(names, lambda a, b: a.split()[-1] > b.split()[-1])\n",
    "for n in names: print(n)\n",
    "# Sort asc / desc by number of letter 'a' in name\n",
    "my_sort(names, lambda a, b: len([c for c in a if c == 'a']) < len([c for c in b if c == 'a']))\n",
    "print('---------------------')\n",
    "for n in names: print(n)"
   ]
  },
  {
   "cell_type": "code",
   "execution_count": 15,
   "metadata": {},
   "outputs": [
    {
     "name": "stdout",
     "output_type": "stream",
     "text": [
      "[-53  89 -61 -25 -78  46  -7  69 -19  94 -53 -89  66 -91 -92]\n"
     ]
    }
   ],
   "source": [
    "# filter function syntax: filter(function, iterable)\n",
    "import numpy as np\n",
    "numbers = np.random.randint(-100, 100, 15)\n",
    "print(numbers)"
   ]
  },
  {
   "cell_type": "code",
   "execution_count": 22,
   "metadata": {},
   "outputs": [
    {
     "name": "stdout",
     "output_type": "stream",
     "text": [
      "[89 46 69 94 66]\n",
      "[89, 46, 69, 94, 66]\n",
      "[89, 46, 69, 94, 66]\n"
     ]
    }
   ],
   "source": [
    "positives = numbers[numbers > 0]    # boolean indexing\n",
    "print(positives)\n",
    "positives = [n for n in numbers if n > 0]   # list comprehension\n",
    "print(positives)\n",
    "positives = list(filter(lambda x: x > 0, numbers))   # filter function with lambda\n",
    "print(positives)"
   ]
  },
  {
   "cell_type": "code",
   "execution_count": 20,
   "metadata": {},
   "outputs": [
    {
     "name": "stdout",
     "output_type": "stream",
     "text": [
      "364\n",
      "364\n",
      "364\n"
     ]
    }
   ],
   "source": [
    "# Calculate the sum of all positive numbers\n",
    "print(sum(numbers[numbers > 0]))\n",
    "print(sum([n for n in numbers if n > 0]))\n",
    "print(sum(filter(lambda x: x > 0, numbers)))"
   ]
  },
  {
   "cell_type": "code",
   "execution_count": null,
   "metadata": {},
   "outputs": [],
   "source": [
    "product_list = [['computer', 2000, 130],\n",
    "                ['monitor', 1590, 210],\n",
    "                ['laptop', 3000, 120],\n",
    "                ['mouse', 100, 380],\n",
    "                ['keyboard', 200, 220],\n",
    "                ['printer', 500, 150]]\n",
    "# Calculate the total sales of products that has number of units sold >= 150"
   ]
  },
  {
   "cell_type": "code",
   "execution_count": 37,
   "metadata": {},
   "outputs": [
    {
     "name": "stdout",
     "output_type": "stream",
     "text": [
      "['John', '0877882828', 1000]\n",
      "['Paul', '0877882829', 5000]\n",
      "['', '0877882830', 2000]\n",
      "['George', 'O78E8238389', 3000]\n",
      "['Ringo Starrrrrrrrrrrrrrrrrr', '0877882831', 100]\n",
      "['', '08778828HHHH', -4000]\n"
     ]
    }
   ],
   "source": [
    "employees = [['John', '0877882828', 1000],\n",
    "             ['Paul', '0877882829', 5000],  # invalid salary\n",
    "             ['', '0877882830', 2000],      # invalid name (empty)\n",
    "             ['George', 'O78E8238389', 3000],         # invalid phone number\n",
    "             ['Ringo Starrrrrrrrrrrrrrrrrr', '0877882831', 100], # invalid name & salary\n",
    "             ['', '08778828HHHH', -4000]]\n",
    "# Write a function to cleansing data by correct name, phone and salary with following options. Each option should be a function.\n",
    "# a) Empty name can be changed to a default name (John Doe)\n",
    "# b) Too long name should be truncated (max 20 characters)\n",
    "# c) Phone must be digits.  Any non-digit should change to 0.  (i.e 012ab34 => 0120034)\n",
    "# d) Phone must be digits, any non-digit should change to a previous digit (or 0 if not)\n",
    "# e) Valid salary is in range [200, 2000]. Any invalid salary should change to 200 or 2000 correspondingly\n",
    "nothing = lambda x: x\n",
    "def clean_employees(employees, fix_name=nothing, fix_salary=nothing, fix_phone=nothing):\n",
    "    for e in employees:\n",
    "        e[0] = fix_name(e[0])\n",
    "        e[1] = fix_phone(e[1])\n",
    "        e[2] = fix_salary(e[2])\n",
    "    return employees\n",
    "def print_employees(employees):\n",
    "    for e in employees:\n",
    "        print(e)\n",
    "print_employees(employees)"
   ]
  },
  {
   "cell_type": "code",
   "execution_count": 33,
   "metadata": {},
   "outputs": [
    {
     "name": "stdout",
     "output_type": "stream",
     "text": [
      "['John', '0877882828', 1000]\n",
      "['Paul', '0877882829', 2000]\n",
      "['John Doe', '0877882830', 2000]\n",
      "['George', '07808238389', 2000]\n",
      "['Ringo Starrrrrrrrrrrrrrrrrr', '0877882831', 200]\n",
      "['John Doe', '087788280000', 200]\n"
     ]
    }
   ],
   "source": [
    "def fix_empty_name(name):\n",
    "    return 'John Doe' if name == '' else name\n",
    "\n",
    "#clean_employees(employees, fix_name=fix_empty_name)\n",
    "clean_employees(employees, fix_name=lambda name: 'John Doe' if name == '' else name,\n",
    "    fix_salary=lambda salary: 200 if salary < 200 else 2000 if salary > 2000 else salary,\n",
    "    fix_phone=lambda phone: ''.join([c if c.isdigit() else '0' for c in phone]))\n",
    "print_employees(employees)"
   ]
  },
  {
   "cell_type": "code",
   "execution_count": 39,
   "metadata": {},
   "outputs": [
    {
     "name": "stdout",
     "output_type": "stream",
     "text": [
      "['John', '0877882828', 1000]\n",
      "['Paul', '0877882829', 5000]\n",
      "['', '0877882830', 2000]\n",
      "['George', '07888238389', 3000]\n",
      "['Ringo Starrrrrrrrrrr', '0877882831', 100]\n",
      "['', '087788288888', -4000]\n"
     ]
    }
   ],
   "source": [
    "clean_employees(employees, fix_name=lambda name: name[:20])\n",
    "\n",
    "def fix_phone_previous(phone):\n",
    "    phone_chars = list(phone)\n",
    "    for i in range(len(phone_chars)):\n",
    "        if not phone_chars[i].isdigit():\n",
    "            phone_chars[i] = phone_chars[i-1] if i > 0 else '0'\n",
    "    return ''.join(phone_chars)\n",
    "\n",
    "clean_employees(employees, fix_phone=fix_phone_previous)\n",
    "print_employees(employees)"
   ]
  }
 ],
 "metadata": {
  "kernelspec": {
   "display_name": "Python 3",
   "language": "python",
   "name": "python3"
  },
  "language_info": {
   "codemirror_mode": {
    "name": "ipython",
    "version": 3
   },
   "file_extension": ".py",
   "mimetype": "text/x-python",
   "name": "python",
   "nbconvert_exporter": "python",
   "pygments_lexer": "ipython3",
   "version": "3.9.12"
  },
  "orig_nbformat": 4
 },
 "nbformat": 4,
 "nbformat_minor": 2
}
