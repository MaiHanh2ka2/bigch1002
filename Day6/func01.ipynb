{
 "cells": [
  {
   "cell_type": "code",
   "execution_count": 1,
   "metadata": {},
   "outputs": [],
   "source": [
    "def my_func(msg):\n",
    "    print(msg)"
   ]
  },
  {
   "cell_type": "code",
   "execution_count": null,
   "metadata": {},
   "outputs": [],
   "source": [
    "my_func('Hello World')\n",
    "my_func(45)"
   ]
  },
  {
   "cell_type": "code",
   "execution_count": 4,
   "metadata": {},
   "outputs": [],
   "source": [
    "def my_max(a, b):\n",
    "    return a if a > b else b"
   ]
  },
  {
   "cell_type": "code",
   "execution_count": null,
   "metadata": {},
   "outputs": [],
   "source": [
    "print(my_max(4, 8))\n",
    "print(my_max(4.6, 2.0))\n",
    "print(my_max('John', 'Paul'))\n",
    "print(my_max(4, 5.5))"
   ]
  },
  {
   "cell_type": "code",
   "execution_count": null,
   "metadata": {},
   "outputs": [],
   "source": [
    "# Scope of variables\n",
    "def double(a):\n",
    "    a = a * 2\n",
    "    b = a + 5       # b is only existed in double\n",
    "    print(a, b)\n",
    "\n",
    "a = 5\n",
    "double(a)\n",
    "print(a, b) # error because b is not defined"
   ]
  },
  {
   "cell_type": "code",
   "execution_count": 25,
   "metadata": {},
   "outputs": [
    {
     "name": "stdout",
     "output_type": "stream",
     "text": [
      "5\n"
     ]
    }
   ],
   "source": [
    "a = 100 # global variable\n",
    "\n",
    "def my_func():\n",
    "    a = 5   # local variable\n",
    "    print(a)\n",
    "\n",
    "\n",
    "my_func()"
   ]
  },
  {
   "cell_type": "code",
   "execution_count": 26,
   "metadata": {},
   "outputs": [
    {
     "name": "stdout",
     "output_type": "stream",
     "text": [
      "7 5\n",
      "5 7\n"
     ]
    }
   ],
   "source": [
    "# Pass parameter: by value or by reference\n",
    "def swap(a, b):\n",
    "    a, b = b, a\n",
    "    print(a, b)\n",
    "\n",
    "a = 5\n",
    "b = 7\n",
    "swap(a, b)\n",
    "print(a, b)"
   ]
  },
  {
   "cell_type": "code",
   "execution_count": 27,
   "metadata": {},
   "outputs": [
    {
     "name": "stdout",
     "output_type": "stream",
     "text": [
      "[2, 4, 6]\n",
      "[2, 4, 6]\n"
     ]
    }
   ],
   "source": [
    "def double(items):\n",
    "    for i in range(len(items)):\n",
    "        items[i] = items[i] * 2\n",
    "    print(items)\n",
    "\n",
    "numbers = [1, 2, 3]\n",
    "double(numbers)\n",
    "\n",
    "print(numbers)"
   ]
  },
  {
   "cell_type": "code",
   "execution_count": 28,
   "metadata": {},
   "outputs": [
    {
     "name": "stdout",
     "output_type": "stream",
     "text": [
      "[2, 4, 6]\n",
      "[1, 2, 3]\n"
     ]
    }
   ],
   "source": [
    "def double(items):\n",
    "    items = [i * 2 for i in items]\n",
    "    print(items)\n",
    "\n",
    "numbers = [1, 2, 3]\n",
    "double(numbers)\n",
    "print(numbers)"
   ]
  },
  {
   "cell_type": "code",
   "execution_count": 31,
   "metadata": {},
   "outputs": [
    {
     "name": "stdout",
     "output_type": "stream",
     "text": [
      "5^^^7\n"
     ]
    }
   ],
   "source": [
    "print(a, b, sep='^^^')"
   ]
  },
  {
   "cell_type": "code",
   "execution_count": 32,
   "metadata": {},
   "outputs": [],
   "source": [
    "def operator(a, b, op='+'):\n",
    "    if op == '+': return a + b\n",
    "    if op == '-': return a - b\n",
    "    if op == '*': return a * b\n",
    "    if op == '/': return a / b\n",
    "    return None"
   ]
  },
  {
   "cell_type": "code",
   "execution_count": 36,
   "metadata": {},
   "outputs": [
    {
     "name": "stdout",
     "output_type": "stream",
     "text": [
      "8\n",
      "-2\n",
      "15\n"
     ]
    }
   ],
   "source": [
    "\n",
    "print(operator(3, 5))           # use default value for op\n",
    "print(operator(3, 5, '-'))      # use op without keyword\n",
    "print(operator(3, 5, op='*'))   # use op with keyword"
   ]
  },
  {
   "cell_type": "code",
   "execution_count": 37,
   "metadata": {},
   "outputs": [],
   "source": [
    "def my_func(a, b, msg='Hello', number=10):\n",
    "    print(a, b, msg, number)"
   ]
  },
  {
   "cell_type": "code",
   "execution_count": 38,
   "metadata": {},
   "outputs": [
    {
     "name": "stdout",
     "output_type": "stream",
     "text": [
      "1 2 Hello 10\n"
     ]
    }
   ],
   "source": [
    "my_func(1, 2)"
   ]
  },
  {
   "cell_type": "code",
   "execution_count": 39,
   "metadata": {},
   "outputs": [
    {
     "name": "stdout",
     "output_type": "stream",
     "text": [
      "1 2 Hello Python 10\n"
     ]
    }
   ],
   "source": [
    "my_func(1, 2, 'Hello Python')"
   ]
  },
  {
   "cell_type": "code",
   "execution_count": 40,
   "metadata": {},
   "outputs": [
    {
     "name": "stdout",
     "output_type": "stream",
     "text": [
      "1 2 Hello Python 20\n"
     ]
    }
   ],
   "source": [
    "my_func(1, 2, 'Hello Python', 20)"
   ]
  },
  {
   "cell_type": "code",
   "execution_count": 41,
   "metadata": {},
   "outputs": [
    {
     "name": "stdout",
     "output_type": "stream",
     "text": [
      "1 2 20 10\n"
     ]
    }
   ],
   "source": [
    "my_func(1, 2, msg=20)"
   ]
  },
  {
   "cell_type": "code",
   "execution_count": 42,
   "metadata": {},
   "outputs": [
    {
     "name": "stdout",
     "output_type": "stream",
     "text": [
      "1 2 20 Hello\n"
     ]
    }
   ],
   "source": [
    "my_func(1, 2, 20, 'Hello')"
   ]
  },
  {
   "cell_type": "code",
   "execution_count": 43,
   "metadata": {},
   "outputs": [
    {
     "name": "stdout",
     "output_type": "stream",
     "text": [
      "1 2 Hello 20\n"
     ]
    }
   ],
   "source": [
    "my_func(1, 2, number=20, msg='Hello')"
   ]
  },
  {
   "cell_type": "code",
   "execution_count": 44,
   "metadata": {},
   "outputs": [
    {
     "name": "stdout",
     "output_type": "stream",
     "text": [
      "1 2 Hello 20\n"
     ]
    }
   ],
   "source": [
    "my_func(a=1, b=2, msg='Hello', number=20)"
   ]
  },
  {
   "cell_type": "code",
   "execution_count": 45,
   "metadata": {},
   "outputs": [
    {
     "name": "stdout",
     "output_type": "stream",
     "text": [
      "1 2 Hello 10\n"
     ]
    }
   ],
   "source": [
    "my_func(msg='Hello', a=1, b=2, number=10)"
   ]
  },
  {
   "cell_type": "code",
   "execution_count": null,
   "metadata": {},
   "outputs": [],
   "source": [
    "# Viết CT quản lý sản phẩm với các chức năng sau:\n",
    "# 1. Nhập thông tin sản phẩm (id, name, price) để thêm vào\n",
    "# 2. Hiển thị thông tin sản phẩm\n",
    "# 3. Tìm kiếm sản phẩm theo tên (có thể tìm gần đúng hoặc chính xác)\n",
    "# 4. Tìm kiếm sản phẩm theo giá (nhập giá in sản phẩm có giá lớn hơn hoặc nhỏ hơn)\n",
    "# 5. Sửa giá sản phẩm (nhập id, tìm sản phẩm, nhập giá và sửa giá)\n",
    "# 6. Xóa sản phẩm (nhập id, tìm sản phẩm, xóa sản phẩm)\n",
    "# 7. Thoát"
   ]
  }
 ],
 "metadata": {
  "kernelspec": {
   "display_name": "Python 3",
   "language": "python",
   "name": "python3"
  },
  "language_info": {
   "codemirror_mode": {
    "name": "ipython",
    "version": 3
   },
   "file_extension": ".py",
   "mimetype": "text/x-python",
   "name": "python",
   "nbconvert_exporter": "python",
   "pygments_lexer": "ipython3",
   "version": "3.9.12"
  },
  "orig_nbformat": 4
 },
 "nbformat": 4,
 "nbformat_minor": 2
}
