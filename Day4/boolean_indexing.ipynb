{
 "cells": [
  {
   "cell_type": "code",
   "execution_count": null,
   "metadata": {},
   "outputs": [],
   "source": [
    "import numpy as np\n",
    "numbers = np.random.randint(1, 100, 15)\n",
    "print(numbers)\n",
    "odd_even = numbers % 2 == 0\n",
    "print(odd_even)\n",
    "print(numbers[odd_even])\n",
    "print(numbers[numbers % 2 == 1])  # boolean indexing"
   ]
  },
  {
   "cell_type": "code",
   "execution_count": null,
   "metadata": {},
   "outputs": [],
   "source": [
    "numbers = np.random.randint(-100, 100, 15)\n",
    "print(numbers)\n",
    "positives = numbers[numbers > 0]\n",
    "negatives = numbers[numbers < 0]\n",
    "\n",
    "print(positives, negatives, sep = '\\n')"
   ]
  },
  {
   "cell_type": "code",
   "execution_count": null,
   "metadata": {},
   "outputs": [],
   "source": [
    "numbers[numbers < 0] *= -1\n",
    "print(numbers)"
   ]
  },
  {
   "cell_type": "code",
   "execution_count": 14,
   "metadata": {},
   "outputs": [
    {
     "name": "stdout",
     "output_type": "stream",
     "text": [
      "['Harry McGuire' 'Marcus Rashford' 'John Doe' 'Paul Pogba' 'David De Gea']\n",
      "[ 27   0   0  26 150]\n"
     ]
    }
   ],
   "source": [
    "names = np.array(['Harry McGuire', 'Marcus Rashford', '', 'Paul Pogba', 'David De Gea'])\n",
    "ages = np.array([27, -22, 0, 26, 280])\n",
    "\n",
    "# change empty name to 'John Doe'\n",
    "names[names == ''] = 'John Doe'\n",
    "print(names)\n",
    "# change invalid ages to 0 or 150 correspondingly\n",
    "ages[ages < 0] = 0\n",
    "ages[ages > 150] = 150\n",
    "print(ages)"
   ]
  },
  {
   "cell_type": "code",
   "execution_count": 24,
   "metadata": {},
   "outputs": [
    {
     "name": "stdout",
     "output_type": "stream",
     "text": [
      "[ 0  2  7 11 13 20 17]\n"
     ]
    }
   ],
   "source": [
    "y = np.array([0., 1.3, 5. , 10.9, 18.9, 28.7, 40.]) \n",
    "t = np.array([0., 0.49, 1. , 1.5 , 2.08, 2.55, 3.2])\n",
    "v = np.array([0, 0, 0, 0, 0, 0, 0])\n",
    "for i in range(1, len(y)):\n",
    "    v[i] = (y[i] - y[i-1]) / (t[i] - t[i-1])\n",
    "print(v)"
   ]
  },
  {
   "cell_type": "code",
   "execution_count": 16,
   "metadata": {},
   "outputs": [
    {
     "name": "stdout",
     "output_type": "stream",
     "text": [
      "[ 0.          2.65306122  7.25490196 11.8        13.79310345 20.85106383\n",
      " 17.38461538]\n"
     ]
    }
   ],
   "source": [
    "v = np.zeros(len(y))\n",
    "v[1:] = (y[1:] - y[:-1]) / (t[1:] - t[:-1])\n",
    "print(v)"
   ]
  },
  {
   "cell_type": "code",
   "execution_count": 22,
   "metadata": {},
   "outputs": [
    {
     "name": "stdout",
     "output_type": "stream",
     "text": [
      "['A' 'BBB' 'Joh' 'C' 'DE']\n"
     ]
    }
   ],
   "source": [
    "a = np.array(['A', 'BBB', '', 'C', 'DE'])\n",
    "a[a == ''] = 'John Doe'\n",
    "print(a)"
   ]
  },
  {
   "cell_type": "code",
   "execution_count": 25,
   "metadata": {},
   "outputs": [
    {
     "name": "stdout",
     "output_type": "stream",
     "text": [
      "['2' '7' '6.0']\n"
     ]
    }
   ],
   "source": [
    "a = [2, '7', 6.0]\n",
    "b = np.array(a)\n",
    "print(b)"
   ]
  },
  {
   "cell_type": "code",
   "execution_count": 32,
   "metadata": {},
   "outputs": [
    {
     "name": "stdout",
     "output_type": "stream",
     "text": [
      "[[1 2 3]\n",
      " [4 5 6]\n",
      " [7 8 9]]\n",
      "(3, 3)\n",
      "[1 2 3 4 5 6] (6,)\n"
     ]
    }
   ],
   "source": [
    "# 2d array\n",
    "# create 2d array from 2d list\n",
    "a = [[1, 2, 3], [4, 5, 6], [7, 8, 9]]\n",
    "b = np.array(a)\n",
    "print(b)\n",
    "print(np.shape(b))\n",
    "a = [1, 2, 3, 4, 5, 6]\n",
    "b = np.array(a)\n",
    "print(b, np.shape(b))"
   ]
  },
  {
   "cell_type": "code",
   "execution_count": 31,
   "metadata": {},
   "outputs": [
    {
     "name": "stdout",
     "output_type": "stream",
     "text": [
      "[[1 2 3]\n",
      " [4 5 6]] (2, 3)\n",
      "[[1 2 3 4 5 6]] (1, 6)\n",
      "[[1]\n",
      " [2]\n",
      " [3]\n",
      " [4]\n",
      " [5]\n",
      " [6]] (6, 1)\n"
     ]
    }
   ],
   "source": [
    "c = b.reshape(2, 3)\n",
    "d = b.reshape(1, 6)\n",
    "e = b.reshape(6, 1)\n",
    "print(c, np.shape(c))\n",
    "print(d, np.shape(d))\n",
    "print(e, np.shape(e))"
   ]
  },
  {
   "cell_type": "code",
   "execution_count": 37,
   "metadata": {},
   "outputs": [
    {
     "name": "stdout",
     "output_type": "stream",
     "text": [
      "[[0. 0. 0.]\n",
      " [0. 0. 0.]]\n",
      "[[1 1]\n",
      " [1 1]\n",
      " [1 1]\n",
      " [1 1]\n",
      " [1 1]\n",
      " [1 1]]\n"
     ]
    }
   ],
   "source": [
    "print(np.zeros((2, 3)))\n",
    "print(np.ones((6, 2), dtype=int))"
   ]
  },
  {
   "cell_type": "code",
   "execution_count": 38,
   "metadata": {},
   "outputs": [
    {
     "name": "stdout",
     "output_type": "stream",
     "text": [
      "[[56  4 52]\n",
      " [32 99 25]\n",
      " [97 95  1]]\n"
     ]
    }
   ],
   "source": [
    "matrix = np.random.randint(1, 100, (3, 3))\n",
    "print(matrix)"
   ]
  },
  {
   "cell_type": "code",
   "execution_count": 40,
   "metadata": {},
   "outputs": [
    {
     "name": "stdout",
     "output_type": "stream",
     "text": [
      "99\n",
      "99\n"
     ]
    }
   ],
   "source": [
    "# Indexing\n",
    "print(matrix[1][1])\n",
    "print(matrix[1, 1])"
   ]
  },
  {
   "cell_type": "code",
   "execution_count": 41,
   "metadata": {},
   "outputs": [
    {
     "name": "stdout",
     "output_type": "stream",
     "text": [
      "[[29 72 87 38]\n",
      " [53 23 77 76]\n",
      " [42 41 97 31]\n",
      " [86 27 54 27]]\n"
     ]
    }
   ],
   "source": [
    "matrix = np.random.randint(10, 100, (4, 4))\n",
    "print(matrix)"
   ]
  },
  {
   "cell_type": "code",
   "execution_count": 45,
   "metadata": {},
   "outputs": [
    {
     "name": "stdout",
     "output_type": "stream",
     "text": [
      "[[29 72]\n",
      " [53 23]\n",
      " [42 41]\n",
      " [86 27]]\n"
     ]
    }
   ],
   "source": [
    "col1 = matrix[:, :2]\n",
    "print(col1)"
   ]
  },
  {
   "cell_type": "code",
   "execution_count": 46,
   "metadata": {},
   "outputs": [
    {
     "name": "stdout",
     "output_type": "stream",
     "text": [
      "[[ 0  0 87 38]\n",
      " [ 0  0 77 76]\n",
      " [42 41 97 31]\n",
      " [86 27 54 27]]\n"
     ]
    }
   ],
   "source": [
    "matrix[:2, :2] = 0\n",
    "print(matrix)"
   ]
  },
  {
   "cell_type": "code",
   "execution_count": null,
   "metadata": {},
   "outputs": [],
   "source": [
    "# Create an 8 × 8 array with ones on all the edges and zeros everywhere else. \n",
    "# Create an 8 × 8 array of integers with a checkerboard pattern of ones and zeros. \n",
    "a = np.ones((8, 8), dtype=int)\n",
    "a[1:-1, 1:-1] = 0\n",
    "print(a)"
   ]
  },
  {
   "cell_type": "code",
   "execution_count": null,
   "metadata": {},
   "outputs": [],
   "source": [
    "a = np.ones((8, 8), dtype=int)\n",
    "a[::2, 1::2] = 0\n",
    "a[1::2, ::2] = 0\n",
    "print(a)"
   ]
  },
  {
   "cell_type": "code",
   "execution_count": 53,
   "metadata": {},
   "outputs": [
    {
     "name": "stdout",
     "output_type": "stream",
     "text": [
      "[[1 0 1 0 1 0 1 0]\n",
      " [0 1 0 1 0 1 0 1]\n",
      " [1 0 1 0 1 0 1 0]\n",
      " [0 1 0 1 0 1 0 1]\n",
      " [1 0 1 0 1 0 1 0]\n",
      " [0 1 0 1 0 1 0 1]\n",
      " [1 0 1 0 1 0 1 0]\n",
      " [0 1 0 1 0 1 0 1]]\n"
     ]
    }
   ],
   "source": [
    "a = ([1, 0] * 4 + [0, 1] * 4) * 4\n",
    "a = np.array(a).reshape(8, 8)\n",
    "print(a)"
   ]
  }
 ],
 "metadata": {
  "kernelspec": {
   "display_name": "Python 3",
   "language": "python",
   "name": "python3"
  },
  "language_info": {
   "codemirror_mode": {
    "name": "ipython",
    "version": 3
   },
   "file_extension": ".py",
   "mimetype": "text/x-python",
   "name": "python",
   "nbconvert_exporter": "python",
   "pygments_lexer": "ipython3",
   "version": "3.9.12"
  },
  "orig_nbformat": 4
 },
 "nbformat": 4,
 "nbformat_minor": 2
}
