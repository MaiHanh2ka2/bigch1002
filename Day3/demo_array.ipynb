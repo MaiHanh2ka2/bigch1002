{
 "cells": [
  {
   "cell_type": "code",
   "execution_count": 1,
   "metadata": {},
   "outputs": [
    {
     "name": "stdout",
     "output_type": "stream",
     "text": [
      "[1, 2, 3, 4]\n",
      "[1 2 3 4]\n"
     ]
    }
   ],
   "source": [
    "import numpy as np\n",
    "\n",
    "# Create array from a list\n",
    "a = [1, 2, 3, 4]\n",
    "b = np.array(a)\n",
    "print(a, b, sep='\\n')"
   ]
  },
  {
   "cell_type": "code",
   "execution_count": 12,
   "metadata": {},
   "outputs": [
    {
     "name": "stdout",
     "output_type": "stream",
     "text": [
      "[0 1 2 3 4 5 6 7 8 9]\n",
      "[10 11 12 13 14 15 16 17 18 19]\n",
      "[ 0  1  2  3  4  5  6  7  8  9 10 11 12 13 14 15 16 17 18 19]\n",
      "[ 0  2  4  6  8 10 12 14 16 18]\n",
      "[ 1  3  5  7  9 11 13 15 17 19]\n",
      "[0.  0.1 0.2 0.3 0.4 0.5 0.6 0.7 0.8 0.9]\n"
     ]
    }
   ],
   "source": [
    "a = np.arange(10)\n",
    "print(a)\n",
    "b = np.arange(10, 20)\n",
    "print(b)\n",
    "c = np.concatenate((a, b))\n",
    "print(c)\n",
    "d = np.arange(0, 20, 2)\n",
    "print(d)\n",
    "e = np.arange(1, 20, 2)\n",
    "print(e)\n",
    "f = np.arange(0, 1, 0.1)\n",
    "print(f)\n",
    "# np.arange(start, end, step)"
   ]
  },
  {
   "cell_type": "code",
   "execution_count": 14,
   "metadata": {},
   "outputs": [
    {
     "name": "stdout",
     "output_type": "stream",
     "text": [
      "[0 1 2 3 4 5 6 7 8 9]\n",
      "[0.  0.1 0.2 0.3 0.4 0.5 0.6 0.7 0.8 0.9]\n"
     ]
    }
   ],
   "source": [
    "a = np.linspace(0, 9, 10, dtype=int) # start, end, number of elements\n",
    "print(a)\n",
    "f = np.linspace(0, 1, 10, endpoint=False)\n",
    "print(f)"
   ]
  },
  {
   "cell_type": "code",
   "execution_count": 21,
   "metadata": {},
   "outputs": [
    {
     "name": "stdout",
     "output_type": "stream",
     "text": [
      "[   2    4    8   16   32   64  128  256  512 1024]\n",
      "[     1     10    100   1000  10000 100000]\n"
     ]
    }
   ],
   "source": [
    "c = np.logspace(1, 10, 10, base=2, dtype=int)    \n",
    "print(c)\n",
    "d = np.logspace(0, 5, 6, dtype=int)\n",
    "print(d)"
   ]
  },
  {
   "cell_type": "code",
   "execution_count": 22,
   "metadata": {},
   "outputs": [
    {
     "name": "stdout",
     "output_type": "stream",
     "text": [
      "[  9  27  81 243 729]\n"
     ]
    }
   ],
   "source": [
    "# Generate following numbers: 9, 27, 81, 243, 729\n",
    "e = np.logspace(2, 6, 5, base=3, dtype=int)     \n",
    "print(e)"
   ]
  },
  {
   "cell_type": "code",
   "execution_count": 25,
   "metadata": {},
   "outputs": [
    {
     "name": "stdout",
     "output_type": "stream",
     "text": [
      "[0. 0. 0. 0. 0. 0. 0. 0. 0. 0.]\n",
      "[[1 1 1]\n",
      " [1 1 1]\n",
      " [1 1 1]]\n"
     ]
    }
   ],
   "source": [
    "zeros = np.zeros(10)\n",
    "ones = np.ones((3, 3), dtype=int)\n",
    "print(zeros)\n",
    "print(ones)  "
   ]
  },
  {
   "cell_type": "code",
   "execution_count": 28,
   "metadata": {},
   "outputs": [
    {
     "name": "stdout",
     "output_type": "stream",
     "text": [
      "[0 1 2 3 4]\n",
      "[5 6 7 8 9]\n",
      "[ 5  7  9 11 13]\n",
      "[-5 -5 -5 -5 -5]\n",
      "[ 0  6 14 24 36]\n",
      "[0.         0.16666667 0.28571429 0.375      0.44444444]\n",
      "[0 0 0 0 0]\n",
      "[0 1 2 3 4]\n",
      "[     0      1    128   6561 262144]\n"
     ]
    }
   ],
   "source": [
    "a = np.arange(5)\n",
    "b = np.arange(5, 10)\n",
    "print(a, b, sep='\\n')\n",
    "print(a + b)\n",
    "print(a - b)\n",
    "print(a * b)\n",
    "print(a / b)\n",
    "print(a // b)\n",
    "print(a % b)\n",
    "print(a ** b)"
   ]
  },
  {
   "cell_type": "code",
   "execution_count": 30,
   "metadata": {},
   "outputs": [
    {
     "name": "stdout",
     "output_type": "stream",
     "text": [
      "[0 1 2 3 4]\n",
      "[2 3 4 5 6]\n",
      "[-2 -1  0  1  2]\n",
      "[0 2 4 6 8]\n",
      "[0.  0.5 1.  1.5 2. ]\n",
      "[0 0 1 1 2]\n",
      "[0 1 0 1 0]\n",
      "[ 0  1  4  9 16]\n",
      "[ 1  2  4  8 16]\n"
     ]
    }
   ],
   "source": [
    "print(a)\n",
    "print(a + 2)\n",
    "print(a - 2)    \n",
    "print(a * 2)\n",
    "print(a / 2)\n",
    "print(a // 2)\n",
    "print(a % 2)\n",
    "print(a ** 2)\n",
    "print(2 ** a)"
   ]
  },
  {
   "cell_type": "code",
   "execution_count": 31,
   "metadata": {},
   "outputs": [
    {
     "name": "stdout",
     "output_type": "stream",
     "text": [
      "[-5.         -4.33333333 -3.66666667 -3.         -2.33333333]\n"
     ]
    }
   ],
   "source": [
    "b = (a * 2 - 15) / 3\n",
    "print(b)"
   ]
  },
  {
   "cell_type": "code",
   "execution_count": 32,
   "metadata": {},
   "outputs": [
    {
     "name": "stdout",
     "output_type": "stream",
     "text": [
      "[ True False  True False  True]\n"
     ]
    }
   ],
   "source": [
    "c = a % 2 == 0\n",
    "print(c)"
   ]
  }
 ],
 "metadata": {
  "kernelspec": {
   "display_name": "Python 3",
   "language": "python",
   "name": "python3"
  },
  "language_info": {
   "codemirror_mode": {
    "name": "ipython",
    "version": 3
   },
   "file_extension": ".py",
   "mimetype": "text/x-python",
   "name": "python",
   "nbconvert_exporter": "python",
   "pygments_lexer": "ipython3",
   "version": "3.9.12"
  },
  "orig_nbformat": 4
 },
 "nbformat": 4,
 "nbformat_minor": 2
}
