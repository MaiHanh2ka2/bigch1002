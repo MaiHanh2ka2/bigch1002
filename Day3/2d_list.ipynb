{
 "cells": [
  {
   "cell_type": "code",
   "execution_count": null,
   "metadata": {},
   "outputs": [],
   "source": [
    "# 2d list\n",
    "matrix = [[1, 2, 3],\n",
    "          [4, 5, 6],\n",
    "          [7, 8, 9]]\n",
    "print(matrix)\n",
    "for row in matrix:\n",
    "    print(row)"
   ]
  },
  {
   "cell_type": "code",
   "execution_count": null,
   "metadata": {},
   "outputs": [],
   "source": [
    "m = [[1], [2, 3], [], [4, 5, 6, 7, 8]]\n",
    "for row in m:\n",
    "    print(row)"
   ]
  },
  {
   "cell_type": "code",
   "execution_count": null,
   "metadata": {},
   "outputs": [],
   "source": [
    "print(m[1][1])\n",
    "# print(m[2][1])\n",
    "print(m[3][1])"
   ]
  },
  {
   "cell_type": "code",
   "execution_count": 10,
   "metadata": {},
   "outputs": [
    {
     "name": "stdout",
     "output_type": "stream",
     "text": [
      "[[], [4, 5, 6, 7, 8]]\n",
      "[[], [4, 5, 6, 7, 8]]\n"
     ]
    }
   ],
   "source": [
    "# Slicde rows of a 2d list\n",
    "print(m[2:4])\n",
    "print(m[-2:])"
   ]
  },
  {
   "cell_type": "code",
   "execution_count": 11,
   "metadata": {},
   "outputs": [],
   "source": [
    "def print_matrix(m):\n",
    "    for row in m:\n",
    "        print(row)"
   ]
  },
  {
   "cell_type": "code",
   "execution_count": 13,
   "metadata": {},
   "outputs": [
    {
     "name": "stdout",
     "output_type": "stream",
     "text": [
      "[1, 2, 3]\n",
      "[4, 5, 6]\n",
      "[7, 8, 9]\n"
     ]
    }
   ],
   "source": [
    "print_matrix(matrix)"
   ]
  },
  {
   "cell_type": "code",
   "execution_count": 14,
   "metadata": {},
   "outputs": [
    {
     "name": "stdout",
     "output_type": "stream",
     "text": [
      "[67, 10, 79, 24, 51]\n",
      "[30, 67, 48, 12, 95]\n",
      "[69, 48, 35, 65, 99]\n",
      "[34, 42, 76, 64, 56]\n",
      "[71, 11, 29, 59, 20]\n"
     ]
    }
   ],
   "source": [
    "import random as rd\n",
    "\n",
    "matrix = [rd.sample(range(10, 100), 5),\n",
    "          rd.sample(range(10, 100), 5),\n",
    "          rd.sample(range(10, 100), 5),\n",
    "          rd.sample(range(10, 100), 5),\n",
    "          rd.sample(range(10, 100), 5)]\n",
    "\n",
    "print_matrix(matrix)"
   ]
  },
  {
   "cell_type": "code",
   "execution_count": 15,
   "metadata": {},
   "outputs": [
    {
     "name": "stdout",
     "output_type": "stream",
     "text": [
      "Min of row 2: 35\n",
      "Max of row 2: 99\n",
      "Sum of row 2: 316\n",
      "Row 2 sorted: [35, 48, 65, 69, 99]\n"
     ]
    }
   ],
   "source": [
    "n = int(input('Enter a row: '))\n",
    "print(f'Min of row {n}: {min(matrix[n])}')\n",
    "print(f'Max of row {n}: {max(matrix[n])}')\n",
    "print(f'Sum of row {n}: {sum(matrix[n])}')\n",
    "print(f'Row {n} sorted: {sorted(matrix[n])}')"
   ]
  },
  {
   "cell_type": "code",
   "execution_count": null,
   "metadata": {},
   "outputs": [],
   "source": [
    "product_sold = [['pen', 10.0, 50],\n",
    "                ['pencil', 20.5, 40],\n",
    "                ['eraser', 30.0, 25],\n",
    "                ['ruler', 40.5, 20],\n",
    "                ['notebook', 50.5, 15]]\n",
    "\n",
    "# Find the most expensive product\n",
    "max_price = product_sold[0][1]\n",
    "i_max = 0\n",
    "for i in range(len(product_sold)):\n",
    "    if product_sold[i][1] > max_price:\n",
    "        max_price = product_sold[i][1]\n",
    "        i_max = i\n",
    "print(f'The most expensive product is {product_sold[i_max][0]}')\n",
    "# Find the product which is sold the most\n",
    "min_sold = product_sold[0][2]\n",
    "row_min = None\n",
    "for row in product_sold:\n",
    "    if row[2] < min_sold:\n",
    "        min_sold = row[2]\n",
    "        row_min = row\n",
    "print(f'The product which is sold the least is {row_min[0]}')\n",
    "# Find the product which has the highest profit\n",
    "max_profit = product_sold[0][1] * product_sold[0][2]\n",
    "row_max = None\n",
    "for row in product_sold:\n",
    "    profit = row[1] * row[2]\n",
    "    if profit > max_profit:\n",
    "        max_profit = profit\n",
    "        row_max = row\n",
    "print(f'The product which has the highest profit is {row_max[0]}')\n",
    "# Calculate sum of profit\n",
    "total_profit = 0\n",
    "for row in product_sold:\n",
    "    total_profit += row[1] * row[2]\n",
    "print(f'The total profit is {total_profit}')"
   ]
  }
 ],
 "metadata": {
  "kernelspec": {
   "display_name": "Python 3",
   "language": "python",
   "name": "python3"
  },
  "language_info": {
   "codemirror_mode": {
    "name": "ipython",
    "version": 3
   },
   "file_extension": ".py",
   "mimetype": "text/x-python",
   "name": "python",
   "nbconvert_exporter": "python",
   "pygments_lexer": "ipython3",
   "version": "3.9.12"
  },
  "orig_nbformat": 4
 },
 "nbformat": 4,
 "nbformat_minor": 2
}
