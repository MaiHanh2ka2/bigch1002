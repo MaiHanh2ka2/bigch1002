{
 "cells": [
  {
   "cell_type": "code",
   "execution_count": 17,
   "metadata": {},
   "outputs": [],
   "source": [
    "# Define a list: []\n",
    "a = [] # empty list\n",
    "b = [1, 2, 3] # list of integers\n",
    "c = [1, 'hello', 5.5, True, [2, 3]] # list of mixed data types"
   ]
  },
  {
   "cell_type": "code",
   "execution_count": null,
   "metadata": {},
   "outputs": [],
   "source": [
    "print(c[2])\n",
    "print(c[4])\n",
    "print(c[-1])\n",
    "print(c[-5])\n",
    "print(c[5])  # IndexError: list index out of range"
   ]
  },
  {
   "cell_type": "code",
   "execution_count": 9,
   "metadata": {},
   "outputs": [
    {
     "name": "stdout",
     "output_type": "stream",
     "text": [
      "[1, 2, 3, 1, 'hello', 5.5, True, [2, 3]]\n",
      "[1, 2, 3, 1, 2, 3, 1, 2, 3]\n"
     ]
    }
   ],
   "source": [
    "# List operators: +, *\n",
    "# Concatenation\n",
    "d = b + c\n",
    "print(d)\n",
    "# Multiplication\n",
    "e = b * 3\n",
    "print(e)"
   ]
  },
  {
   "cell_type": "code",
   "execution_count": 18,
   "metadata": {},
   "outputs": [
    {
     "name": "stdout",
     "output_type": "stream",
     "text": [
      "[1, 2, 3, 4]\n",
      "[100, 1, 2, 3, 4]\n",
      "[1, 2, 3, 4]\n"
     ]
    }
   ],
   "source": [
    "# List methods\n",
    "b.append(4)\n",
    "print(b)\n",
    "b.insert(0, 100)\n",
    "print(b)\n",
    "b.remove(100)\n",
    "print(b)"
   ]
  },
  {
   "cell_type": "code",
   "execution_count": 19,
   "metadata": {},
   "outputs": [
    {
     "name": "stdout",
     "output_type": "stream",
     "text": [
      "[1, 1, 2, 1, 2]\n"
     ]
    }
   ],
   "source": [
    "f = [1, 2, 1, 2, 1, 2]\n",
    "f.remove(2)\n",
    "print(f)"
   ]
  },
  {
   "cell_type": "code",
   "execution_count": 22,
   "metadata": {},
   "outputs": [
    {
     "name": "stdout",
     "output_type": "stream",
     "text": [
      "[1, 2, 1, 2]\n"
     ]
    }
   ],
   "source": [
    "if 200 in f:\n",
    "    f.remove(200)\n",
    "\n",
    "del f[0]\n",
    "print(f)"
   ]
  },
  {
   "cell_type": "code",
   "execution_count": 23,
   "metadata": {},
   "outputs": [
    {
     "name": "stdout",
     "output_type": "stream",
     "text": [
      "[1, 2, 1, 100]\n"
     ]
    }
   ],
   "source": [
    "f[-1] = 100\n",
    "print(f)"
   ]
  },
  {
   "cell_type": "code",
   "execution_count": null,
   "metadata": {},
   "outputs": [],
   "source": [
    "# Popular collection problem: sum, sort, min, max, count, find\n",
    "import random as rd\n",
    "numbers = rd.sample(range(100), 10)\n",
    "print(numbers)"
   ]
  },
  {
   "cell_type": "code",
   "execution_count": null,
   "metadata": {},
   "outputs": [],
   "source": [
    "print(f'Sum = {sum(numbers)}')\n",
    "print(f'Min = {min(numbers)}')\n",
    "print(f'Max = {max(numbers)}')\n",
    "print(f'Len = {len(numbers)}')\n",
    "n = int(input('Enter n: '))\n",
    "if n in numbers:\n",
    "    print(f'Found {n}')\n",
    "else:\n",
    "    print('Not found!')"
   ]
  },
  {
   "cell_type": "code",
   "execution_count": 4,
   "metadata": {},
   "outputs": [
    {
     "name": "stdout",
     "output_type": "stream",
     "text": [
      "[58, 70, 39, 72, 23, 61, 86, 36, 20, 31]\n",
      "[20, 23, 31, 36, 39, 58, 61, 70, 72, 86]\n"
     ]
    }
   ],
   "source": [
    "# Sort on a copied list\n",
    "numbers_sorted = sorted(numbers)\n",
    "print(numbers)\n",
    "print(numbers_sorted)"
   ]
  },
  {
   "cell_type": "code",
   "execution_count": 5,
   "metadata": {},
   "outputs": [
    {
     "name": "stdout",
     "output_type": "stream",
     "text": [
      "[20, 23, 31, 36, 39, 58, 61, 70, 72, 86]\n"
     ]
    }
   ],
   "source": [
    "numbers.sort()\n",
    "print(numbers)"
   ]
  },
  {
   "cell_type": "code",
   "execution_count": 9,
   "metadata": {},
   "outputs": [
    {
     "name": "stdout",
     "output_type": "stream",
     "text": [
      "book has the highest price: 30\n",
      "notebook has the lowest sold numbers: 20\n",
      "Total sale = 1880\n",
      "pen has price = 10 and sold numbers = 30\n",
      "Average sale = 376.0\n",
      "There are 2 products that have sale above the average sale\n"
     ]
    }
   ],
   "source": [
    "products = ['pencil', 'erase', 'pen', 'notebook', 'book']\n",
    "prices = [5, 3, 10, 20, 30]\n",
    "numbers = [50, 60, 30, 20, 25]\n",
    "n = len(products)\n",
    "# Find the product with the highest price (max)\n",
    "highest_price = prices[0]\n",
    "i_max = 0\n",
    "for i in range(n):\n",
    "    if prices[i] > highest_price:\n",
    "        highest_price = prices[i]\n",
    "        i_max = i\n",
    "\n",
    "print(f'{products[i_max]} has the highest price: {highest_price}')\n",
    "# Find the product with the lowest sold numbers (min)\n",
    "lowest_sold = numbers[0]\n",
    "i_min = 0\n",
    "for i in range(n):\n",
    "    if numbers[i] < lowest_sold:\n",
    "        lowest_sold = numbers[i]\n",
    "        i_min = i\n",
    "print(f'{products[i_min]} has the lowest sold numbers: {lowest_sold}')\n",
    "# Find total sales of all products (sum)\n",
    "total_sales = 0\n",
    "for i in range(n):\n",
    "    total_sales += prices[i] * numbers[i]\n",
    "print(f'Total sale = {total_sales}')\n",
    "# Enter a product name, print its price and sold numbers\n",
    "product_name = input('Enter product name: ')\n",
    "found = False\n",
    "for i in range(n):\n",
    "    if products[i] == product_name:\n",
    "        print(f'{product_name} has price = {prices[i]} and sold numbers = {numbers[i]}')\n",
    "        found = True\n",
    "        break\n",
    "if not found:\n",
    "    print('Not found!')\n",
    "# Count how many products that has sale above the average sale\n",
    "average_sale = total_sales / n\n",
    "print(f'Average sale = {average_sale}')\n",
    "count = 0\n",
    "for i in range(n):\n",
    "    if prices[i] * numbers[i] > average_sale:\n",
    "        count += 1\n",
    "print(f'There are {count} products that have sale above the average sale')"
   ]
  },
  {
   "cell_type": "code",
   "execution_count": 14,
   "metadata": {},
   "outputs": [
    {
     "name": "stdout",
     "output_type": "stream",
     "text": [
      "[97, 60, 78, 33, 13, 48, 32, 76, 0, 69]\n",
      "[97, 60, 78]\n"
     ]
    }
   ],
   "source": [
    "# Syntax slicing: [start:stop:step]\n",
    "numbers = rd.sample(range(100), 10)\n",
    "print(numbers)\n",
    "a = numbers[0:3:1]\n",
    "print(a)"
   ]
  },
  {
   "cell_type": "code",
   "execution_count": 20,
   "metadata": {},
   "outputs": [
    {
     "name": "stdout",
     "output_type": "stream",
     "text": [
      "[32, 76, 0, 69]\n",
      "[97, 60, 78]\n",
      "[78, 13, 32]\n",
      "[60, 13, 76]\n"
     ]
    }
   ],
   "source": [
    "b = numbers[6:]\n",
    "print(b)\n",
    "a = numbers[:3]\n",
    "print(a)\n",
    "c = numbers[2:7:2]\n",
    "print(c)\n",
    "d = numbers[1::3]\n",
    "print(d)"
   ]
  },
  {
   "cell_type": "code",
   "execution_count": 24,
   "metadata": {},
   "outputs": [
    {
     "name": "stdout",
     "output_type": "stream",
     "text": [
      "[97, 60, 78, 33, 13, 48, 32, 76, 0, 69]\n",
      "[32, 76, 0, 69]\n",
      "[69, 76, 48, 33, 60]\n"
     ]
    }
   ],
   "source": [
    "print(numbers)\n",
    "b = numbers[-4:]\n",
    "print(b)\n",
    "e = numbers[::-2]\n",
    "print(e)"
   ]
  },
  {
   "cell_type": "code",
   "execution_count": 31,
   "metadata": {},
   "outputs": [
    {
     "name": "stdout",
     "output_type": "stream",
     "text": [
      "('John', 'Paul', 'Mike', 'Anna')\n",
      "John\n",
      "Anna\n",
      "('Paul', 'Mike')\n",
      "('John', 'Paul', 'Mike', 'Anna', 'John', 'Paul', 'Mike', 'Anna')\n"
     ]
    }
   ],
   "source": [
    "names = ('John', 'Paul', 'Mike', 'Anna')\n",
    "print(names)\n",
    "print(names[0])\n",
    "print(names[-1])\n",
    "print(names[1:3])\n",
    "print(names * 2)\n",
    "# names.append('Bob') => AttributeError: 'tuple' object has no attribute 'append'\n",
    "# print(names)\n",
    "# names[0] = 'Bob'    => TypeError: 'tuple' object does not support item assignment\n",
    "# print(names)"
   ]
  },
  {
   "cell_type": "code",
   "execution_count": 34,
   "metadata": {},
   "outputs": [
    {
     "name": "stdout",
     "output_type": "stream",
     "text": [
      "('John', 'Paul', 'Mike', 'Anna')\n",
      "('John', 'Paul', 'Mike', 'Anna', 'Bob')\n"
     ]
    }
   ],
   "source": [
    "print(names)\n",
    "names = names + ('Bob', )\n",
    "print(names)"
   ]
  },
  {
   "cell_type": "code",
   "execution_count": 37,
   "metadata": {},
   "outputs": [
    {
     "name": "stdout",
     "output_type": "stream",
     "text": [
      "[97, 60, 78, 33, 13, 48, 32, 76, 0, 69]\n",
      "[97, 60, 78, 33, 13, 48, 32, 76, 0, 69]\n",
      "[97, 60, 78, 33, 13, 48, 32, 76, 0, 69]\n",
      "[-1000, 60, 78, 33, 13, 48, 32, 76, 0, 69]\n",
      "[-1000, 60, 78, 33, 13, 48, 32, 76, 0, 69]\n",
      "[97, 60, 78, 33, 13, 48, 32, 76, 0, 69]\n"
     ]
    }
   ],
   "source": [
    "print(numbers)\n",
    "a = numbers\n",
    "b = numbers[::]\n",
    "print(a)\n",
    "print(b)\n",
    "numbers[0] = -1000\n",
    "print(numbers)\n",
    "print(a)\n",
    "print(b)"
   ]
  },
  {
   "cell_type": "code",
   "execution_count": 38,
   "metadata": {},
   "outputs": [
    {
     "name": "stdout",
     "output_type": "stream",
     "text": [
      "[14, 34, 18, 82, 44, 30, 23, 79, 10, 87, 62, 80, 26, 73, 45, 8, 40, 2, 7, 13]\n",
      "[14, 34, 18, 82, 44, 30, 23, 79, 10, 87]\n",
      "[62, 80, 26, 73, 45, 8, 40, 2, 7, 13]\n"
     ]
    }
   ],
   "source": [
    "# Exercise 1\n",
    "numbers = rd.sample(range(100), 20)\n",
    "n = len(numbers) // 2\n",
    "first = numbers[:n]\n",
    "second = numbers[n:]\n",
    "print(numbers, first, second, sep='\\n')"
   ]
  },
  {
   "cell_type": "code",
   "execution_count": 41,
   "metadata": {},
   "outputs": [
    {
     "name": "stdout",
     "output_type": "stream",
     "text": [
      "[]\n",
      "[14, 34, 18, 82, 44, 30, 23, 79, 10, 87, 62, 80, 26, 73, 45, 8, 40, 2, 7, 13, 14, 34, 18, 82, 44, 30, 23, 79, 10, 87, 62, 80, 26, 73, 45, 8, 40, 2, 7, 13]\n"
     ]
    }
   ],
   "source": [
    "# Exercise 2\n",
    "n = int(input('Enter n: '))\n",
    "middle = numbers[n:-n]\n",
    "print(middle)\n",
    "rest = numbers[:n] + numbers[-n:]\n",
    "print(rest)"
   ]
  },
  {
   "cell_type": "code",
   "execution_count": null,
   "metadata": {},
   "outputs": [],
   "source": [
    "i = int(input('Enter i: '))\n",
    "print(numbers[i])"
   ]
  },
  {
   "cell_type": "code",
   "execution_count": null,
   "metadata": {},
   "outputs": [],
   "source": [
    "products = ['pencil', 'erase', 'pen', 'notebook', 'book']\n",
    "prices = [5, 3, 10, 20, 30]\n",
    "numbers = [50, 60, 30, 20, 25]"
   ]
  },
  {
   "cell_type": "code",
   "execution_count": 48,
   "metadata": {},
   "outputs": [
    {
     "name": "stdout",
     "output_type": "stream",
     "text": [
      "Most expensive product is book\n"
     ]
    }
   ],
   "source": [
    "#max_price = max(prices)\n",
    "#i_max = prices.index(max_price)\n",
    "print(f'Most expensive product is {products[prices.index(max(prices))]}')"
   ]
  }
 ],
 "metadata": {
  "kernelspec": {
   "display_name": "Python 3",
   "language": "python",
   "name": "python3"
  },
  "language_info": {
   "codemirror_mode": {
    "name": "ipython",
    "version": 3
   },
   "file_extension": ".py",
   "mimetype": "text/x-python",
   "name": "python",
   "nbconvert_exporter": "python",
   "pygments_lexer": "ipython3",
   "version": "3.9.12"
  },
  "orig_nbformat": 4
 },
 "nbformat": 4,
 "nbformat_minor": 2
}
