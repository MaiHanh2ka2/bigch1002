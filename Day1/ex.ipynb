{
 "cells": [
  {
   "cell_type": "code",
   "execution_count": 1,
   "metadata": {},
   "outputs": [
    {
     "name": "stdout",
     "output_type": "stream",
     "text": [
      "5\n"
     ]
    }
   ],
   "source": [
    "# Ex1: Enter 3 sides of a triangle. Check if it is a valid triangle.\n",
    "# If it is a valid triangle, calculate its perimeter and area."
   ]
  },
  {
   "cell_type": "code",
   "execution_count": 5,
   "metadata": {},
   "outputs": [
    {
     "name": "stdout",
     "output_type": "stream",
     "text": [
      "Invalid triangle, 3 sides must be positive\n"
     ]
    }
   ],
   "source": [
    "a = int(input('Enter a: '))\n",
    "b = int(input('Enter b: '))\n",
    "c = int(input('Enter c: '))\n",
    "\n",
    "if a <= 0 or b <= 0 or c <= 0:\n",
    "    print('Invalid triangle, 3 sides must be positive')\n",
    "elif a + b <= c or a + c <= b or b + c <= a:\n",
    "    print('Invalid triangle, sum of 2 sides must be greater than the other side')\n",
    "else:\n",
    "    p = (a + b + c) / 2\n",
    "    s = (p * (p - a) * (p - b) * (p - c)) ** 0.5\n",
    "    print(f'Perimeter = {p * 2}')\n",
    "    print(f'Area is {s}')"
   ]
  },
  {
   "cell_type": "code",
   "execution_count": null,
   "metadata": {},
   "outputs": [],
   "source": [
    "# Enter 4 grades (0-10) of a student (business, dsa, application, research). \n",
    "# Calculate the average grade.\n",
    "# Enter activity points (0-100).\n",
    "# Active student is one who has at least 80 activity points, gpa >= 5.0\n",
    "# Nerd student is one who has at most 40 activity points, gpa >= 8.0\n",
    "# Else is normal student\n",
    "# Enter grades, activity points, decide type of student"
   ]
  },
  {
   "cell_type": "code",
   "execution_count": 11,
   "metadata": {},
   "outputs": [],
   "source": [
    "business_grade = float(input('Enter Business Intelligence grade: '))\n",
    "dsa_grade = float(input('Enter Data Structure & Algorithm grade: '))\n",
    "application_grade = float(input('Enter Application Development grade: '))\n",
    "research_grade = float(input('Enter Research Project grade: '))\n",
    "actvity_points = float(input('Enter activity points: '))"
   ]
  },
  {
   "cell_type": "code",
   "execution_count": 13,
   "metadata": {},
   "outputs": [
    {
     "name": "stdout",
     "output_type": "stream",
     "text": [
      "Business Intelligence : 5.00\n",
      "DSA:  5.00\n",
      "Application Development:  5.00\n",
      "Research Project:  5.00\n",
      "Average grade:  5.00\n",
      "Activity points: 90.0\n",
      "Active student\n"
     ]
    }
   ],
   "source": [
    "if business_grade < 0 or business_grade > 10:\n",
    "    print('Invalid Business Intelligence grade')\n",
    "elif dsa_grade < 0 or dsa_grade > 10:\n",
    "    print('Invalid Data Structure & Algorithm grade')\n",
    "elif application_grade < 0 or application_grade > 10:\n",
    "    print('Invalid Application Development grade')\n",
    "elif research_grade < 0 or research_grade > 10:\n",
    "    print('Invalid Research Project grade')\n",
    "elif actvity_points < 0 or actvity_points > 100:\n",
    "    print('Invalid activity points')\n",
    "else:\n",
    "    print(f'Business Intelligence :{business_grade:5.2f}')\n",
    "    print(f'DSA: {dsa_grade:5.2f}')\n",
    "    print(f'Application Development: {application_grade:5.2f}')\n",
    "    print(f'Research Project: {research_grade:5.2f}')\n",
    "\n",
    "    average_grade = (business_grade + dsa_grade + application_grade + research_grade) / 4\n",
    "    print(f'Average grade: {average_grade:5.2f}')\n",
    "\n",
    "    print(f'Activity points: {actvity_points}')\n",
    "    if average_grade >= 5.0 and actvity_points >= 80:\n",
    "        print('Active student')\n",
    "    elif average_grade >= 8.0 and actvity_points <= 40:\n",
    "        print('Nerd student')\n",
    "    else:\n",
    "        print('Normal student')"
   ]
  },
  {
   "cell_type": "code",
   "execution_count": 24,
   "metadata": {},
   "outputs": [
    {
     "name": "stdout",
     "output_type": "stream",
     "text": [
      "1 2 3 4 5 6 7 8 9 10 "
     ]
    }
   ],
   "source": [
    "# Loop statements: while, for\n",
    "# while <condition>:\n",
    "#     <statements>\n",
    "i = 1\n",
    "while i <= 10:\n",
    "    print(i, end=' ')\n",
    "    i += 1"
   ]
  },
  {
   "cell_type": "code",
   "execution_count": 29,
   "metadata": {},
   "outputs": [
    {
     "name": "stdout",
     "output_type": "stream",
     "text": [
      "1 2 3 4 5 6 7 8 9 10 "
     ]
    }
   ],
   "source": [
    "# for (int i = 0; i < n; i++) => for i in range(n):\n",
    "for i in range(10):\n",
    "    print(i + 1, end=' ')"
   ]
  },
  {
   "cell_type": "code",
   "execution_count": 32,
   "metadata": {},
   "outputs": [
    {
     "name": "stdout",
     "output_type": "stream",
     "text": [
      "9 x 1 = 9\n",
      "9 x 2 = 18\n",
      "9 x 3 = 27\n",
      "9 x 4 = 36\n",
      "9 x 5 = 45\n",
      "9 x 6 = 54\n",
      "9 x 7 = 63\n",
      "9 x 8 = 72\n",
      "9 x 9 = 81\n",
      "9 x 10 = 90\n"
     ]
    }
   ],
   "source": [
    "# Enter n, print multiplication of n\n",
    "n = int(input('Enter n: '))\n",
    "if n <= 0 or n > 10:\n",
    "    print('Invalid n')\n",
    "else:\n",
    "    for i in range(1, 11):\n",
    "        print(n, 'x', i, '=', n * i)"
   ]
  },
  {
   "cell_type": "code",
   "execution_count": 34,
   "metadata": {},
   "outputs": [
    {
     "name": "stdout",
     "output_type": "stream",
     "text": [
      "* \n",
      "* * \n",
      "* * * \n",
      "* * * * \n",
      "* * * * * \n"
     ]
    }
   ],
   "source": [
    "# Enter n, print triangle of *\n",
    "n = int(input('Enter n: '))\n",
    "for i in range(1, n + 1):\n",
    "    for j in range(i):\n",
    "        print('* ', end='')\n",
    "    print()"
   ]
  },
  {
   "cell_type": "code",
   "execution_count": 35,
   "metadata": {},
   "outputs": [
    {
     "name": "stdout",
     "output_type": "stream",
     "text": [
      "* \n",
      "* * \n",
      "* * * \n",
      "* * * * \n",
      "* * * * * \n"
     ]
    }
   ],
   "source": [
    "for i in range(n):\n",
    "    print('* ' * (i + 1))"
   ]
  }
 ],
 "metadata": {
  "kernelspec": {
   "display_name": "Python 3",
   "language": "python",
   "name": "python3"
  },
  "language_info": {
   "codemirror_mode": {
    "name": "ipython",
    "version": 3
   },
   "file_extension": ".py",
   "mimetype": "text/x-python",
   "name": "python",
   "nbconvert_exporter": "python",
   "pygments_lexer": "ipython3",
   "version": "3.9.12"
  },
  "orig_nbformat": 4
 },
 "nbformat": 4,
 "nbformat_minor": 2
}
